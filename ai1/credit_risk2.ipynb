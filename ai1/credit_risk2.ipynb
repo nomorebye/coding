{
 "cells": [
  {
   "cell_type": "markdown",
   "metadata": {},
   "source": [
    "### OptBinning 라이브러리 활용 신용 평가 모델 개발"
   ]
  },
  {
   "cell_type": "code",
   "execution_count": 1,
   "metadata": {},
   "outputs": [],
   "source": [
    "from my_imports import *\n",
    "df = pd.read_pickle('train_df_sample.pkl')"
   ]
  },
  {
   "cell_type": "code",
   "execution_count": 2,
   "metadata": {},
   "outputs": [],
   "source": [
    "def drop_null_cols(df, threshold =0.8):\n",
    "    null_percent = df.isnull().mean()\n",
    "    drop_cols = list(null_percent[null_percent >= threshold].index)\n",
    "    df = df.drop(drop_cols, axis=1)\n",
    "    print(f\"Dropped {len(drop_cols)} columns: {', '.join(drop_cols)}\")\n",
    "    return df"
   ]
  },
  {
   "cell_type": "code",
   "execution_count": 3,
   "metadata": {},
   "outputs": [
    {
     "name": "stdout",
     "output_type": "stream",
     "text": [
      "Dropped 106 columns: D_49_mean, D_49_std, D_49_min, D_49_max, D_49_last, D_73_mean, D_73_std, D_73_min, D_73_max, D_73_last, D_76_mean, D_76_std, D_76_min, D_76_max, D_76_last, R_9_mean, R_9_std, R_9_min, R_9_max, R_9_last, B_29_mean, B_29_std, B_29_min, B_29_max, B_29_last, D_87_mean, D_87_std, D_87_min, D_87_max, D_87_last, D_88_mean, D_88_std, D_88_min, D_88_max, D_88_last, D_106_mean, D_106_std, D_106_min, D_106_max, D_106_last, R_26_mean, R_26_std, R_26_min, R_26_max, R_26_last, D_108_mean, D_108_std, D_108_min, D_108_max, D_108_last, D_110_mean, D_110_std, D_110_min, D_110_max, D_110_last, D_111_mean, D_111_std, D_111_min, D_111_max, D_111_last, B_39_mean, B_39_std, B_39_min, B_39_max, B_39_last, B_42_mean, B_42_std, B_42_min, B_42_max, B_42_last, D_132_mean, D_132_std, D_132_min, D_132_max, D_132_last, D_134_mean, D_134_std, D_134_min, D_134_max, D_134_last, D_135_mean, D_135_std, D_135_min, D_135_max, D_135_last, D_136_mean, D_136_std, D_136_min, D_136_max, D_136_last, D_137_mean, D_137_std, D_137_min, D_137_max, D_137_last, D_138_mean, D_138_std, D_138_min, D_138_max, D_138_last, D_142_mean, D_142_std, D_142_min, D_142_max, D_142_last, D_66_last\n"
     ]
    }
   ],
   "source": [
    "df = df.reset_index()\n",
    "import hashlib\n",
    "\n",
    "def encode_customer_id(id_str):\n",
    "    encoded_id = hashlib.sha256(id_str.encode('utf-8')).hexdigest()[:16]\n",
    "    return encoded_id\n",
    "\n",
    "df['customer_ID'] = df['customer_ID'].apply(encode_customer_id)\n",
    "df = drop_null_cols(df)"
   ]
  },
  {
   "cell_type": "code",
   "execution_count": null,
   "metadata": {},
   "outputs": [],
   "source": [
    "from optbinning import BinningProcess\n",
    "\n",
    "selection_criteria = {\n",
    "    \"iv\": {\"min\": 0.025, \"max\": 0.7, \"strategy\": \"highest\", \"top\": 20}\n",
    "    \"quality_score\": {\"min\": 0.01}\n",
    "}\n",
    "\n",
    "binning_process = BinningProcess(feature_list,\n",
    "                                 )"
   ]
  }
 ],
 "metadata": {
  "kernelspec": {
   "display_name": "tensor",
   "language": "python",
   "name": "python3"
  },
  "language_info": {
   "codemirror_mode": {
    "name": "ipython",
    "version": 3
   },
   "file_extension": ".py",
   "mimetype": "text/x-python",
   "name": "python",
   "nbconvert_exporter": "python",
   "pygments_lexer": "ipython3",
   "version": "3.12.7"
  }
 },
 "nbformat": 4,
 "nbformat_minor": 2
}
