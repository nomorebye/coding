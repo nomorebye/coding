{
 "cells": [
  {
   "cell_type": "markdown",
   "metadata": {},
   "source": [
    "11 앙상블 모델"
   ]
  },
  {
   "cell_type": "code",
   "execution_count": 1,
   "metadata": {},
   "outputs": [
    {
     "name": "stdout",
     "output_type": "stream",
     "text": [
      "Data ML Shape: (536672, 103)\n",
      "Training Sample Shape: (396256, 103)\n",
      "Testing Sample Shape: (140416, 103)\n",
      "Features: ['Div_Yld', 'Eps', 'Mkt_Cap_12M_Usd', 'Mom_11M_Usd', 'Ocf', 'Pb', 'Vol1Y_Usd']\n"
     ]
    }
   ],
   "source": [
    "from data_processing import *\n",
    "import pandas as pd\n",
    "import numpy as np\n",
    "import matplotlib.pyplot as plt\n",
    "# 데이터 준비 및 저장\n",
    "prepare_and_store_data(\"data_ml.csv\")\n",
    "\n",
    "# 데이터 가져오기\n",
    "data_ml = get_data_ml()\n",
    "training_sample = get_training_sample()\n",
    "testing_sample = get_testing_sample()\n",
    "features = get_features()\n",
    "features_short = get_features_short()\n",
    "\n",
    "# 결과 확인\n",
    "print(\"Data ML Shape:\", data_ml.shape)\n",
    "print(\"Training Sample Shape:\", training_sample.shape)\n",
    "print(\"Testing Sample Shape:\", testing_sample.shape)\n",
    "print(\"Features:\", features_short)\n"
   ]
  },
  {
   "cell_type": "code",
   "execution_count": 27,
   "metadata": {},
   "outputs": [
    {
     "name": "stderr",
     "output_type": "stream",
     "text": [
      "c:\\ProgramData\\miniconda3\\envs\\tensor\\Lib\\site-packages\\xgboost\\core.py:158: UserWarning: [12:38:07] WARNING: C:\\buildkite-agent\\builds\\buildkite-windows-cpu-autoscaling-group-i-0ed59c031377d09b8-1\\xgboost\\xgboost-ci-windows\\src\\learner.cc:740: \n",
      "Parameters: { \"nrounds\", \"rate_drop\", \"verbose\" } are not used.\n",
      "\n",
      "  warnings.warn(smsg, UserWarning)\n",
      "c:\\ProgramData\\miniconda3\\envs\\tensor\\Lib\\site-packages\\keras\\src\\layers\\core\\dense.py:87: UserWarning: Do not pass an `input_shape`/`input_dim` argument to a layer. When using Sequential models, prefer using an `Input(shape)` object as the first layer in the model instead.\n",
      "  super().__init__(activity_regularizer=activity_regularizer, **kwargs)\n"
     ]
    },
    {
     "data": {
      "text/html": [
       "<pre style=\"white-space:pre;overflow-x:auto;line-height:normal;font-family:Menlo,'DejaVu Sans Mono',consolas,'Courier New',monospace\"><span style=\"font-weight: bold\">Model: \"sequential_4\"</span>\n",
       "</pre>\n"
      ],
      "text/plain": [
       "\u001b[1mModel: \"sequential_4\"\u001b[0m\n"
      ]
     },
     "metadata": {},
     "output_type": "display_data"
    },
    {
     "data": {
      "text/html": [
       "<pre style=\"white-space:pre;overflow-x:auto;line-height:normal;font-family:Menlo,'DejaVu Sans Mono',consolas,'Courier New',monospace\">┏━━━━━━━━━━━━━━━━━━━━━━━━━━━━━━━━━┳━━━━━━━━━━━━━━━━━━━━━━━━┳━━━━━━━━━━━━━━━┓\n",
       "┃<span style=\"font-weight: bold\"> Layer (type)                    </span>┃<span style=\"font-weight: bold\"> Output Shape           </span>┃<span style=\"font-weight: bold\">       Param # </span>┃\n",
       "┡━━━━━━━━━━━━━━━━━━━━━━━━━━━━━━━━━╇━━━━━━━━━━━━━━━━━━━━━━━━╇━━━━━━━━━━━━━━━┩\n",
       "│ dense_12 (<span style=\"color: #0087ff; text-decoration-color: #0087ff\">Dense</span>)                │ (<span style=\"color: #00d7ff; text-decoration-color: #00d7ff\">None</span>, <span style=\"color: #00af00; text-decoration-color: #00af00\">16</span>)             │         <span style=\"color: #00af00; text-decoration-color: #00af00\">1,488</span> │\n",
       "├─────────────────────────────────┼────────────────────────┼───────────────┤\n",
       "│ dense_13 (<span style=\"color: #0087ff; text-decoration-color: #0087ff\">Dense</span>)                │ (<span style=\"color: #00d7ff; text-decoration-color: #00d7ff\">None</span>, <span style=\"color: #00af00; text-decoration-color: #00af00\">8</span>)              │           <span style=\"color: #00af00; text-decoration-color: #00af00\">136</span> │\n",
       "├─────────────────────────────────┼────────────────────────┼───────────────┤\n",
       "│ dense_14 (<span style=\"color: #0087ff; text-decoration-color: #0087ff\">Dense</span>)                │ (<span style=\"color: #00d7ff; text-decoration-color: #00d7ff\">None</span>, <span style=\"color: #00af00; text-decoration-color: #00af00\">1</span>)              │             <span style=\"color: #00af00; text-decoration-color: #00af00\">9</span> │\n",
       "└─────────────────────────────────┴────────────────────────┴───────────────┘\n",
       "</pre>\n"
      ],
      "text/plain": [
       "┏━━━━━━━━━━━━━━━━━━━━━━━━━━━━━━━━━┳━━━━━━━━━━━━━━━━━━━━━━━━┳━━━━━━━━━━━━━━━┓\n",
       "┃\u001b[1m \u001b[0m\u001b[1mLayer (type)                   \u001b[0m\u001b[1m \u001b[0m┃\u001b[1m \u001b[0m\u001b[1mOutput Shape          \u001b[0m\u001b[1m \u001b[0m┃\u001b[1m \u001b[0m\u001b[1m      Param #\u001b[0m\u001b[1m \u001b[0m┃\n",
       "┡━━━━━━━━━━━━━━━━━━━━━━━━━━━━━━━━━╇━━━━━━━━━━━━━━━━━━━━━━━━╇━━━━━━━━━━━━━━━┩\n",
       "│ dense_12 (\u001b[38;5;33mDense\u001b[0m)                │ (\u001b[38;5;45mNone\u001b[0m, \u001b[38;5;34m16\u001b[0m)             │         \u001b[38;5;34m1,488\u001b[0m │\n",
       "├─────────────────────────────────┼────────────────────────┼───────────────┤\n",
       "│ dense_13 (\u001b[38;5;33mDense\u001b[0m)                │ (\u001b[38;5;45mNone\u001b[0m, \u001b[38;5;34m8\u001b[0m)              │           \u001b[38;5;34m136\u001b[0m │\n",
       "├─────────────────────────────────┼────────────────────────┼───────────────┤\n",
       "│ dense_14 (\u001b[38;5;33mDense\u001b[0m)                │ (\u001b[38;5;45mNone\u001b[0m, \u001b[38;5;34m1\u001b[0m)              │             \u001b[38;5;34m9\u001b[0m │\n",
       "└─────────────────────────────────┴────────────────────────┴───────────────┘\n"
      ]
     },
     "metadata": {},
     "output_type": "display_data"
    },
    {
     "data": {
      "text/html": [
       "<pre style=\"white-space:pre;overflow-x:auto;line-height:normal;font-family:Menlo,'DejaVu Sans Mono',consolas,'Courier New',monospace\"><span style=\"font-weight: bold\"> Total params: </span><span style=\"color: #00af00; text-decoration-color: #00af00\">1,633</span> (6.38 KB)\n",
       "</pre>\n"
      ],
      "text/plain": [
       "\u001b[1m Total params: \u001b[0m\u001b[38;5;34m1,633\u001b[0m (6.38 KB)\n"
      ]
     },
     "metadata": {},
     "output_type": "display_data"
    },
    {
     "data": {
      "text/html": [
       "<pre style=\"white-space:pre;overflow-x:auto;line-height:normal;font-family:Menlo,'DejaVu Sans Mono',consolas,'Courier New',monospace\"><span style=\"font-weight: bold\"> Trainable params: </span><span style=\"color: #00af00; text-decoration-color: #00af00\">1,633</span> (6.38 KB)\n",
       "</pre>\n"
      ],
      "text/plain": [
       "\u001b[1m Trainable params: \u001b[0m\u001b[38;5;34m1,633\u001b[0m (6.38 KB)\n"
      ]
     },
     "metadata": {},
     "output_type": "display_data"
    },
    {
     "data": {
      "text/html": [
       "<pre style=\"white-space:pre;overflow-x:auto;line-height:normal;font-family:Menlo,'DejaVu Sans Mono',consolas,'Courier New',monospace\"><span style=\"font-weight: bold\"> Non-trainable params: </span><span style=\"color: #00af00; text-decoration-color: #00af00\">0</span> (0.00 B)\n",
       "</pre>\n"
      ],
      "text/plain": [
       "\u001b[1m Non-trainable params: \u001b[0m\u001b[38;5;34m0\u001b[0m (0.00 B)\n"
      ]
     },
     "metadata": {},
     "output_type": "display_data"
    }
   ],
   "source": [
    "stock_ids_short = []\n",
    "stock_days = []\n",
    "separation_date = \"2014-01-15\"\n",
    "idx_train = data_ml.index[(data_ml['date']<separation_date)].tolist()\n",
    "idx_test = data_ml.index[(data_ml['date']>=separation_date)].tolist()\n",
    "\n",
    "training_sample = data_ml[data_ml.index.isin(idx_train)]\n",
    "testing_sample = data_ml[data_ml.index.isin(idx_test)]\n",
    "\n",
    "# 패널티 회귀 (chap 5)\n",
    "from sklearn.linear_model import ElasticNet\n",
    "\n",
    "y_penalized_train = training_sample['R1M_Usd'].values\n",
    "X_penalized_train = training_sample[features].values\n",
    "model = ElasticNet(alpha=0.1, l1_ratio=0.1)\n",
    "fit_pen_pred = model.fit(X_penalized_train, y_penalized_train)\n",
    "\n",
    "# 단순 트리 (chap 6)\n",
    "from sklearn import tree\n",
    "X = data_ml.iloc[:, 3:95]\n",
    "y = data_ml['R1M_Usd']\n",
    "\n",
    "fit_tree = tree.DecisionTreeRegressor(\n",
    "    min_samples_split=8000,\n",
    "    max_depth= 3,\n",
    "    ccp_alpha= 0.000001,\n",
    "    min_samples_leaf= 3500\n",
    "    )\n",
    "fit_tree.fit(X, y)\n",
    "\n",
    "# 랜덤 포레스트 (chap 6)\n",
    "from sklearn.ensemble import RandomForestRegressor\n",
    "fit_RF = RandomForestRegressor(n_estimators= 40,\n",
    "                               criterion='squared_error',\n",
    "                               min_samples_split=250,\n",
    "                               bootstrap=True,\n",
    "                               max_features=30,\n",
    "                               max_samples=10000\n",
    "                               )\n",
    "y_train = training_sample['R1M_Usd'].values\n",
    "X_train = training_sample[features].values\n",
    "\n",
    "fit_RF.fit(X_train, y_train)\n",
    "\n",
    "# xgboost (chap 6)\n",
    "import xgboost as xgb\n",
    "mono_const=\"(0, 0, -1, 1, 0, -1, 0)\"\n",
    "train_matrix_xgb = xgb.DMatrix(X_train, y_train)\n",
    "params={'eta':0.3, #학습률\n",
    "        'objective':\"reg:squarederror\", #목적함수 \n",
    "        'max_depth':4, #트리의 최고 깊이\n",
    "        'subsample':0.6, #샘플 중 무작위적으로 60%를 선택해 훈련\n",
    "        'colsample_bytree':0.7, #예측 인자 중 무작위적으로 70%를 선택해 훈련\n",
    "        'lambda':1, #나뭇잎 값에 대한 규제화\n",
    "        'gamma':0.1, #나뭇잎 개수에 대한 규제화\n",
    "        'nrounds':30, #사용한 트리 개수\n",
    "        'monotone_constraints':mono_const, #단조성 제약 조건\n",
    "        'rate_drop':0.1, #DART를 위한 드롭률\n",
    "        'verbose':0} #메시지 없음\n",
    "fit_xgb = xgb.train(params, train_matrix_xgb)\n",
    "\n",
    "# 피드백포워드 신경망 (chap 7)\n",
    "from tensorflow import keras\n",
    "from tensorflow.keras import layers\n",
    "import tensorflow as tf\n",
    "from plot_keras_history import show_history, plot_history\n",
    "\n",
    "\n",
    "NN_test_features = testing_sample[features].values\n",
    "NN_test_labels = testing_sample['R1M_Usd'].values\n",
    "\n",
    "model = keras.Sequential()\n",
    "model.add(layers.Dense(16, activation=\"relu\", input_shape=(len(features),)))\n",
    "model.add(layers.Dense(8,activation=\"tanh\"))\n",
    "model.add(layers.Dense(1))\n",
    "def custom_loss(y_true, y_pred):\n",
    "    loss = tf.reduce_mean(\n",
    "        tf.square(y_pred - tf.reduce_mean(y_pred))) -5 * tf.reduce_mean(\n",
    "        (y_true - tf.reduce_mean(y_true)) * (y_pred - tf.reduce_mean(y_pred)))\n",
    "    return loss\n",
    "\n",
    "model.compile(optimizer='RMSprop',\n",
    "              loss=custom_loss,\n",
    "              metrics=['MeanAbsoluteError'])\n",
    "model.summary()\n",
    "\n",
    "fit_NN = model.fit(\n",
    "    X_train,\n",
    "    y_train,\n",
    "    batch_size=512,\n",
    "    epochs=10,\n",
    "    validation_data=(NN_test_features,NN_test_labels),\n",
    "    verbose=False\n",
    ")"
   ]
  },
  {
   "cell_type": "code",
   "execution_count": 34,
   "metadata": {},
   "outputs": [
    {
     "name": "stderr",
     "output_type": "stream",
     "text": [
      "C:\\Users\\Administrator\\AppData\\Local\\Temp\\ipykernel_25636\\2355238988.py:17: UserWarning: Boolean Series key will be reindexed to match DataFrame index.\n",
      "  returns = data_ml_unique[is_stock_ids_short].pivot(\n",
      "c:\\ProgramData\\miniconda3\\envs\\tensor\\Lib\\site-packages\\keras\\src\\layers\\rnn\\rnn.py:204: UserWarning: Do not pass an `input_shape`/`input_dim` argument to a layer. When using Sequential models, prefer using an `Input(shape)` object as the first layer in the model instead.\n",
      "  super().__init__(**kwargs)\n"
     ]
    },
    {
     "data": {
      "image/png": "[encoded data removed]",
      "text/plain": [
       "<Figure size 1000x500 with 2 Axes>"
      ]
     },
     "metadata": {},
     "output_type": "display_data"
    }
   ],
   "source": [
    "stock_ids_short = []\n",
    "stock_days = []\n",
    "\n",
    "# 각 주식별 데이터 포인트 개수 세기\n",
    "stock_ids = data_ml['stock_id'].unique()\n",
    "stock_days = data_ml[['date', 'stock_id']].groupby(\n",
    "    ['stock_id']).count().reset_index()\n",
    "\n",
    "# 데이터가 모두 있는 주식을 리스트로 변환\n",
    "stock_ids_short = stock_days.loc[\n",
    "    stock_days['date'] == (stock_days['date'].max())]\n",
    "stock_ids_short = stock_ids_short['stock_id'].unique()\n",
    "is_stock_ids_short = data_ml['stock_id'].isin(stock_ids_short)\n",
    "data_ml_unique = data_ml[is_stock_ids_short].drop_duplicates(subset=['date', 'stock_id'])\n",
    "\n",
    "\n",
    "returns = data_ml_unique[is_stock_ids_short].pivot(\n",
    "    index='date', columns='stock_id', values='R1M_Usd'\n",
    ")\n",
    "\n",
    "data_rnn = data_ml[data_ml['stock_id'].isin(stock_ids_short)]\n",
    "training_sample_rnn = data_rnn[data_rnn['date']<separation_date]\n",
    "testing_sample_rnn = data_rnn[data_rnn['date']>separation_date]\n",
    "\n",
    "nb_stocks = len(stock_ids_short)\n",
    "nb_feats = len(features)\n",
    "nb_dates_train = training_sample_rnn.shape[0] // nb_stocks\n",
    "nb_dates_test = testing_sample_rnn.shape[0] // nb_stocks\n",
    "\n",
    "nn_train_features = training_sample_rnn[features].values\n",
    "nn_test_features = testing_sample_rnn[features].values\n",
    "nn_train_labels = training_sample_rnn['R1M_Usd'].values\n",
    "nn_test_labels = testing_sample_rnn['R1M_Usd'].values\n",
    "\n",
    "# 데이터 변환: nn_train_features를 (nb_dates_train, nb_stocks, nb_feats) 형식으로 재구성\n",
    "train_features_rnn = np.reshape(nn_train_features, (nb_dates_train, nb_stocks, nb_feats))\n",
    "test_features_rnn = np.reshape(nn_test_features, (nb_dates_test, nb_stocks, nb_feats))\n",
    "\n",
    "# GRU에 맞게 배치 차원으로 변환: (nb_stocks, nb_dates_train, nb_feats)\n",
    "train_features_rnn = train_features_rnn.transpose(1, 0, 2)  # \n",
    "test_features_rnn = test_features_rnn.transpose(1, 0, 2)  # \n",
    "\n",
    "# 레이블도 동일한 형식으로 변환\n",
    "train_labels_rnn = np.reshape(nn_train_labels, (nb_stocks, nb_dates_train, 1))\n",
    "test_labels_rnn = np.reshape(nn_test_labels, (nb_stocks, nb_dates_test, 1))\n",
    "\n",
    "model_RNN = keras.Sequential()\n",
    "model_RNN.add(layers.GRU(16, input_shape= (nb_dates_train, nb_feats),\n",
    "                         activation='tanh',\n",
    "                         return_sequences=True))\n",
    "model_RNN.add(layers.Dense(1))\n",
    "model_RNN.compile(optimizer='RMSprop', #손실 = 이차\n",
    "                  loss='mse', # 역전파\n",
    "                  metrics=['MeanAbsoluteError'])\n",
    "\n",
    "fit_RNN = model_RNN.fit(train_features_rnn,\n",
    "                        train_labels_rnn,\n",
    "                        epochs = 10,\n",
    "                        batch_size = nb_stocks,\n",
    "                        verbose=False)\n",
    "show_history(fit_RNN)"
   ]
  },
  {
   "cell_type": "code",
   "execution_count": 39,
   "metadata": {},
   "outputs": [
    {
     "name": "stderr",
     "output_type": "stream",
     "text": [
      "c:\\ProgramData\\miniconda3\\envs\\tensor\\Lib\\site-packages\\sklearn\\base.py:486: UserWarning: X has feature names, but RandomForestRegressor was fitted without feature names\n",
      "  warnings.warn(\n"
     ]
    },
    {
     "ename": "ValueError",
     "evalue": "Exception encountered when calling Sequential.call().\n\n\u001b[1mInvalid input shape for input Tensor(\"data:0\", shape=(32, 7), dtype=float32). Expected shape (None, 336, 92), but input has incompatible shape (32, 7)\u001b[0m\n\nArguments received by Sequential.call():\n  • inputs=tf.Tensor(shape=(32, 7), dtype=float32)\n  • training=False\n  • mask=None",
     "output_type": "error",
     "traceback": [
      "\u001b[1;31m---------------------------------------------------------------------------\u001b[0m",
      "\u001b[1;31mValueError\u001b[0m                                Traceback (most recent call last)",
      "Cell \u001b[1;32mIn[39], line 9\u001b[0m\n\u001b[0;32m      5\u001b[0m err_RF_train \u001b[38;5;241m=\u001b[39m fit_RF\u001b[38;5;241m.\u001b[39mpredict(\n\u001b[0;32m      6\u001b[0m     training_sample[features]) \u001b[38;5;241m-\u001b[39m training_sample[\u001b[38;5;124m'\u001b[39m\u001b[38;5;124mR1M_Usd\u001b[39m\u001b[38;5;124m'\u001b[39m] \u001b[38;5;66;03m# 랜덤 포레스트\u001b[39;00m\n\u001b[0;32m      7\u001b[0m err_XGB_train \u001b[38;5;241m=\u001b[39m fit_xgb\u001b[38;5;241m.\u001b[39mpredict(\n\u001b[0;32m      8\u001b[0m     train_matrix_xgb) \u001b[38;5;241m-\u001b[39m training_sample[\u001b[38;5;124m'\u001b[39m\u001b[38;5;124mR1M_Usd\u001b[39m\u001b[38;5;124m'\u001b[39m] \u001b[38;5;66;03m# XGBoost\u001b[39;00m\n\u001b[1;32m----> 9\u001b[0m err_NN_train \u001b[38;5;241m=\u001b[39m \u001b[43mmodel_RNN\u001b[49m\u001b[38;5;241;43m.\u001b[39;49m\u001b[43mpredict\u001b[49m\u001b[43m(\u001b[49m\n\u001b[0;32m     10\u001b[0m \u001b[43m    \u001b[49m\u001b[43mtraining_sample\u001b[49m\u001b[43m[\u001b[49m\u001b[43mfeatures_short\u001b[49m\u001b[43m]\u001b[49m\u001b[43m)\u001b[49m \u001b[38;5;241m-\u001b[39m training_sample[\u001b[38;5;124m'\u001b[39m\u001b[38;5;124mR1M_Usd\u001b[39m\u001b[38;5;124m'\u001b[39m]\u001b[38;5;241m.\u001b[39mvalues\u001b[38;5;241m.\u001b[39mreshape((\u001b[38;5;241m-\u001b[39m\u001b[38;5;241m1\u001b[39m,\u001b[38;5;241m1\u001b[39m)) \u001b[38;5;66;03m# 신경망\u001b[39;00m\n\u001b[0;32m     12\u001b[0m E \u001b[38;5;241m=\u001b[39m pd\u001b[38;5;241m.\u001b[39mconcat(\n\u001b[0;32m     13\u001b[0m     [err_pen_train, err_tree_train, err_RF_train, err_XGB_train, pd\u001b[38;5;241m.\u001b[39mDataFrame(err_NN_train)], axis\u001b[38;5;241m=\u001b[39m\u001b[38;5;241m1\u001b[39m)\n\u001b[0;32m     14\u001b[0m E \u001b[38;5;241m=\u001b[39m E\u001b[38;5;241m.\u001b[39mset_axis([\u001b[38;5;124m'\u001b[39m\u001b[38;5;124mPen_reg\u001b[39m\u001b[38;5;124m'\u001b[39m, \u001b[38;5;124m'\u001b[39m\u001b[38;5;124mTree\u001b[39m\u001b[38;5;124m'\u001b[39m, \u001b[38;5;124m'\u001b[39m\u001b[38;5;124mRF\u001b[39m\u001b[38;5;124m'\u001b[39m, \u001b[38;5;124m'\u001b[39m\u001b[38;5;124mXGB\u001b[39m\u001b[38;5;124m'\u001b[39m, \u001b[38;5;124m'\u001b[39m\u001b[38;5;124mNN\u001b[39m\u001b[38;5;124m'\u001b[39m], axis\u001b[38;5;241m=\u001b[39m\u001b[38;5;241m1\u001b[39m)\n",
      "File \u001b[1;32mc:\\ProgramData\\miniconda3\\envs\\tensor\\Lib\\site-packages\\keras\\src\\utils\\traceback_utils.py:122\u001b[0m, in \u001b[0;36mfilter_traceback.<locals>.error_handler\u001b[1;34m(*args, **kwargs)\u001b[0m\n\u001b[0;32m    119\u001b[0m     filtered_tb \u001b[38;5;241m=\u001b[39m _process_traceback_frames(e\u001b[38;5;241m.\u001b[39m__traceback__)\n\u001b[0;32m    120\u001b[0m     \u001b[38;5;66;03m# To get the full stack trace, call:\u001b[39;00m\n\u001b[0;32m    121\u001b[0m     \u001b[38;5;66;03m# `keras.config.disable_traceback_filtering()`\u001b[39;00m\n\u001b[1;32m--> 122\u001b[0m     \u001b[38;5;28;01mraise\u001b[39;00m e\u001b[38;5;241m.\u001b[39mwith_traceback(filtered_tb) \u001b[38;5;28;01mfrom\u001b[39;00m \u001b[38;5;28;01mNone\u001b[39;00m\n\u001b[0;32m    123\u001b[0m \u001b[38;5;28;01mfinally\u001b[39;00m:\n\u001b[0;32m    124\u001b[0m     \u001b[38;5;28;01mdel\u001b[39;00m filtered_tb\n",
      "File \u001b[1;32mc:\\ProgramData\\miniconda3\\envs\\tensor\\Lib\\site-packages\\keras\\src\\models\\functional.py:264\u001b[0m, in \u001b[0;36mFunctional._adjust_input_rank\u001b[1;34m(self, flat_inputs)\u001b[0m\n\u001b[0;32m    262\u001b[0m             adjusted\u001b[38;5;241m.\u001b[39mappend(ops\u001b[38;5;241m.\u001b[39mexpand_dims(x, axis\u001b[38;5;241m=\u001b[39m\u001b[38;5;241m-\u001b[39m\u001b[38;5;241m1\u001b[39m))\n\u001b[0;32m    263\u001b[0m             \u001b[38;5;28;01mcontinue\u001b[39;00m\n\u001b[1;32m--> 264\u001b[0m     \u001b[38;5;28;01mraise\u001b[39;00m \u001b[38;5;167;01mValueError\u001b[39;00m(\n\u001b[0;32m    265\u001b[0m         \u001b[38;5;124mf\u001b[39m\u001b[38;5;124m\"\u001b[39m\u001b[38;5;124mInvalid input shape for input \u001b[39m\u001b[38;5;132;01m{\u001b[39;00mx\u001b[38;5;132;01m}\u001b[39;00m\u001b[38;5;124m. Expected shape \u001b[39m\u001b[38;5;124m\"\u001b[39m\n\u001b[0;32m    266\u001b[0m         \u001b[38;5;124mf\u001b[39m\u001b[38;5;124m\"\u001b[39m\u001b[38;5;132;01m{\u001b[39;00mref_shape\u001b[38;5;132;01m}\u001b[39;00m\u001b[38;5;124m, but input has incompatible shape \u001b[39m\u001b[38;5;132;01m{\u001b[39;00mx\u001b[38;5;241m.\u001b[39mshape\u001b[38;5;132;01m}\u001b[39;00m\u001b[38;5;124m\"\u001b[39m\n\u001b[0;32m    267\u001b[0m     )\n\u001b[0;32m    268\u001b[0m \u001b[38;5;66;03m# Add back metadata.\u001b[39;00m\n\u001b[0;32m    269\u001b[0m \u001b[38;5;28;01mfor\u001b[39;00m i \u001b[38;5;129;01min\u001b[39;00m \u001b[38;5;28mrange\u001b[39m(\u001b[38;5;28mlen\u001b[39m(flat_inputs)):\n",
      "\u001b[1;31mValueError\u001b[0m: Exception encountered when calling Sequential.call().\n\n\u001b[1mInvalid input shape for input Tensor(\"data:0\", shape=(32, 7), dtype=float32). Expected shape (None, 336, 92), but input has incompatible shape (32, 7)\u001b[0m\n\nArguments received by Sequential.call():\n  • inputs=tf.Tensor(shape=(32, 7), dtype=float32)\n  • training=False\n  • mask=None"
     ]
    }
   ],
   "source": [
    "err_pen_train = fit_pen_pred.predict(\n",
    "    X_penalized_train) - training_sample['R1M_Usd'] #회귀\n",
    "err_tree_train = fit_tree.predict(\n",
    "    training_sample[features]) - training_sample['R1M_Usd'] #트리\n",
    "err_RF_train = fit_RF.predict(\n",
    "    training_sample[features]) - training_sample['R1M_Usd'] # 랜덤 포레스트\n",
    "err_XGB_train = fit_xgb.predict(\n",
    "    train_matrix_xgb) - training_sample['R1M_Usd'] # XGBoost\n",
    "err_NN_train = model_RNN.predict(\n",
    "    training_sample[features_short]) - training_sample['R1M_Usd'].values.reshape((-1,1)) # 신경망\n",
    "\n",
    "E = pd.concat(\n",
    "    [err_pen_train, err_tree_train, err_RF_train, err_XGB_train, pd.DataFrame(err_NN_train)], axis=1)\n",
    "E = E.set_axis(['Pen_reg', 'Tree', 'RF', 'XGB', 'NN'], axis=1)\n",
    "E.corr()"
   ]
  },
  {
   "cell_type": "code",
   "execution_count": 29,
   "metadata": {},
   "outputs": [
    {
     "data": {
      "text/plain": [
       "Pen_reg    0.793686\n",
       "Tree       0.794126\n",
       "RF         0.793628\n",
       "XGB        0.785535\n",
       "NN         0.198800\n",
       "dtype: float64"
      ]
     },
     "execution_count": 29,
     "metadata": {},
     "output_type": "execute_result"
    }
   ],
   "source": [
    "E.corr().mean()"
   ]
  },
  {
   "cell_type": "code",
   "execution_count": 20,
   "metadata": {},
   "outputs": [
    {
     "data": {
      "text/plain": [
       "Pen_reg    0.083459\n",
       "Tree       0.083668\n",
       "RF         0.083380\n",
       "XGB        0.083370\n",
       "NN         0.084505\n",
       "dtype: float64"
      ]
     },
     "execution_count": 20,
     "metadata": {},
     "output_type": "execute_result"
    }
   ],
   "source": [
    "abs(E).mean()"
   ]
  },
  {
   "cell_type": "code",
   "execution_count": 23,
   "metadata": {},
   "outputs": [],
   "source": [
    "w_ensemble = np.linalg.inv((E.T.values@E.values))@np.ones(5)\n",
    "#w_ensemble /= np.sum(w_ensemble)\n",
    "#w_ensemble"
   ]
  }
 ],
 "metadata": {
  "kernelspec": {
   "display_name": "tensor",
   "language": "python",
   "name": "python3"
  },
  "language_info": {
   "codemirror_mode": {
    "name": "ipython",
    "version": 3
   },
   "file_extension": ".py",
   "mimetype": "text/x-python",
   "name": "python",
   "nbconvert_exporter": "python",
   "pygments_lexer": "ipython3",
   "version": "3.12.7"
  }
 },
 "nbformat": 4,
 "nbformat_minor": 2
}
