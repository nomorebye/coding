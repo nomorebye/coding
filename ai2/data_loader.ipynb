{
 "cells": [
  {
   "cell_type": "code",
   "execution_count": null,
   "metadata": {},
   "outputs": [],
   "source": [
    "class PykrxDataLoader:\n",
    "    def __init__(self, fromdate:str, todate: str, market: str = \"KOSPI\"):\n",
    "        self.fromdate = fromdate\n",
    "        self.todate = todate\n",
    "        self.market = market\n",
    "        \n",
    "    # 주가 데이터 불러오기\n",
    "    def load_stock_data(self, ticker_list: List, freq: str, delay: float = 1):\n",
    "        ticker_data_list = []\n",
    "        for ticker in ticker_list:\n",
    "            ticker_data = stock.get_market_ohlcv(fromdate=self.fromdate,\n",
    "                                                 todate=self.todate,\n",
    "                                                 ticker=ticker,\n",
    "                                                 freq='d',\n",
    "                                                 adjusted=True)\n",
    "            ticker_data = ticker_data.rename(\n",
    "                columns={'시가' : 'open', '고가' : 'high', '저가' : 'low',\n",
    "                         '종가' : 'close', '거래량' : 'volume',\n",
    "                         '거래 대금' : 'trading_value', '등락률': 'change_pct'}\n",
    "            )\n",
    "            ticker_data = ticker_data.assign(ticker=ticker)\n",
    "            ticker_data.index.name = 'date'\n",
    "            ticker_data_list.append(ticker_data)\n",
    "            time.sleep(delay)\n",
    "        data = pd.concat(ticker_data_list)\n",
    "        # 잠시 거래를 중단한 주가의 시가 ,고가, 저가 보충\n",
    "        data.loc[data.open == 0,\n",
    "                 ['open', 'high', 'low']] = data.loc[data.open == 0 , 'close']\n",
    "        # 샘플링을 통해 일 데이터를 다른 주기 데이터로 변환\n",
    "        if freq != 'd':\n",
    "            rule = {\n",
    "                'open' : 'first',\n",
    "                'high' : 'max',\n",
    "                'low' : 'min',\n",
    "                'close' : 'last',\n",
    "                'volume' : 'sum',\n",
    "                \n",
    "            }"
   ]
  }
 ],
 "metadata": {
  "language_info": {
   "name": "python"
  }
 },
 "nbformat": 4,
 "nbformat_minor": 2
}
