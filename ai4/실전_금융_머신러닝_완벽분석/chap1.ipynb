{
 "cells": [
  {
   "cell_type": "markdown",
   "metadata": {},
   "source": [
    "01 독립된 주제로서의 금융 머신러닝"
   ]
  },
  {
   "cell_type": "markdown",
   "metadata": {},
   "source": [
    "연습문제"
   ]
  },
  {
   "cell_type": "code",
   "execution_count": null,
   "metadata": {},
   "outputs": [],
   "source": [
    "    \"\"\"Q 1.1 자의적 판단에 의거(전통적인 액티브)한 투자에서 머신러닝-기반의 투자로 변화를 시도하거나 \n",
    "    '퀀터멘탈' 펀드로 불리는 방식으로 변환하려고 시도하는 회사에 대해 알고 있는가?\n",
    "    A 전통적 자산운용사 - 블랙록(BlackRock- 알라딘 시스템), 피델리티(Fidelity), T.로우 프라이스 (T.Rowe Price), JP모건 체이스 (JP Morgan Chase) 등.\n",
    "    헤지펀드 - 르네상스 테크놀리지(Renaissance Technologies), 디 이노베이션 그룹 (Two Sigma), 시타델(Citadel) 등\n",
    "    핀테크 - 웰스프론트(Wealthfront) 등\n",
    "    (a) 그들의 시도는 성공적이었는가? \n",
    "    : 블랙록 - 알라딘 플랫폼을 통해 효율성이 높아지고, 특정 전략 펀드의 성과 향상.\n",
    "    르네상스 테크, 투 시그마 모두 성공적.\n",
    "    (b) 이러한 변화에 저항하는 문화적 어려움에는 어떤 것들이 있는가?s\n",
    "    \"\"\"\n",
    "    "
   ]
  }
 ],
 "metadata": {
  "language_info": {
   "name": "python"
  }
 },
 "nbformat": 4,
 "nbformat_minor": 2
}
