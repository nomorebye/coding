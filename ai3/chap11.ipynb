{
 "cells": [
  {
   "cell_type": "markdown",
   "metadata": {},
   "source": [
    "11 앙상블 모델"
   ]
  },
  {
   "cell_type": "code",
   "execution_count": 1,
   "metadata": {},
   "outputs": [
    {
     "name": "stdout",
     "output_type": "stream",
     "text": [
      "Data ML Shape: (536672, 103)\n",
      "Training Sample Shape: (396256, 103)\n",
      "Testing Sample Shape: (140416, 103)\n",
      "Features: ['Div_Yld', 'Eps', 'Mkt_Cap_12M_Usd', 'Mom_11M_Usd', 'Ocf', 'Pb', 'Vol1Y_Usd']\n"
     ]
    }
   ],
   "source": [
    "from data_processing import *\n",
    "import pandas as pd\n",
    "import numpy as np\n",
    "import matplotlib.pyplot as plt\n",
    "# 데이터 준비 및 저장\n",
    "prepare_and_store_data(\"data_ml.csv\")\n",
    "\n",
    "# 데이터 가져오기\n",
    "data_ml = get_data_ml()\n",
    "training_sample = get_training_sample()\n",
    "testing_sample = get_testing_sample()\n",
    "features = get_features()\n",
    "features_short = get_features_short()\n",
    "\n",
    "# 결과 확인\n",
    "print(\"Data ML Shape:\", data_ml.shape)\n",
    "print(\"Training Sample Shape:\", training_sample.shape)\n",
    "print(\"Testing Sample Shape:\", testing_sample.shape)\n",
    "print(\"Features:\", features_short)\n"
   ]
  },
  {
   "cell_type": "code",
   "execution_count": 2,
   "metadata": {},
   "outputs": [
    {
     "name": "stderr",
     "output_type": "stream",
     "text": [
      "c:\\ProgramData\\miniconda3\\envs\\tensor\\Lib\\site-packages\\xgboost\\core.py:158: UserWarning: [13:20:37] WARNING: C:\\buildkite-agent\\builds\\buildkite-windows-cpu-autoscaling-group-i-0ed59c031377d09b8-1\\xgboost\\xgboost-ci-windows\\src\\learner.cc:740: \n",
      "Parameters: { \"nrounds\", \"rate_drop\", \"verbose\" } are not used.\n",
      "\n",
      "  warnings.warn(smsg, UserWarning)\n",
      "c:\\ProgramData\\miniconda3\\envs\\tensor\\Lib\\site-packages\\keras\\src\\layers\\core\\dense.py:87: UserWarning: Do not pass an `input_shape`/`input_dim` argument to a layer. When using Sequential models, prefer using an `Input(shape)` object as the first layer in the model instead.\n",
      "  super().__init__(activity_regularizer=activity_regularizer, **kwargs)\n"
     ]
    },
    {
     "data": {
      "text/html": [
       "<pre style=\"white-space:pre;overflow-x:auto;line-height:normal;font-family:Menlo,'DejaVu Sans Mono',consolas,'Courier New',monospace\"><span style=\"font-weight: bold\">Model: \"sequential\"</span>\n",
       "</pre>\n"
      ],
      "text/plain": [
       "\u001b[1mModel: \"sequential\"\u001b[0m\n"
      ]
     },
     "metadata": {},
     "output_type": "display_data"
    },
    {
     "data": {
      "text/html": [
       "<pre style=\"white-space:pre;overflow-x:auto;line-height:normal;font-family:Menlo,'DejaVu Sans Mono',consolas,'Courier New',monospace\">┏━━━━━━━━━━━━━━━━━━━━━━━━━━━━━━━━━┳━━━━━━━━━━━━━━━━━━━━━━━━┳━━━━━━━━━━━━━━━┓\n",
       "┃<span style=\"font-weight: bold\"> Layer (type)                    </span>┃<span style=\"font-weight: bold\"> Output Shape           </span>┃<span style=\"font-weight: bold\">       Param # </span>┃\n",
       "┡━━━━━━━━━━━━━━━━━━━━━━━━━━━━━━━━━╇━━━━━━━━━━━━━━━━━━━━━━━━╇━━━━━━━━━━━━━━━┩\n",
       "│ dense (<span style=\"color: #0087ff; text-decoration-color: #0087ff\">Dense</span>)                   │ (<span style=\"color: #00d7ff; text-decoration-color: #00d7ff\">None</span>, <span style=\"color: #00af00; text-decoration-color: #00af00\">16</span>)             │         <span style=\"color: #00af00; text-decoration-color: #00af00\">1,488</span> │\n",
       "├─────────────────────────────────┼────────────────────────┼───────────────┤\n",
       "│ dense_1 (<span style=\"color: #0087ff; text-decoration-color: #0087ff\">Dense</span>)                 │ (<span style=\"color: #00d7ff; text-decoration-color: #00d7ff\">None</span>, <span style=\"color: #00af00; text-decoration-color: #00af00\">8</span>)              │           <span style=\"color: #00af00; text-decoration-color: #00af00\">136</span> │\n",
       "├─────────────────────────────────┼────────────────────────┼───────────────┤\n",
       "│ dense_2 (<span style=\"color: #0087ff; text-decoration-color: #0087ff\">Dense</span>)                 │ (<span style=\"color: #00d7ff; text-decoration-color: #00d7ff\">None</span>, <span style=\"color: #00af00; text-decoration-color: #00af00\">1</span>)              │             <span style=\"color: #00af00; text-decoration-color: #00af00\">9</span> │\n",
       "└─────────────────────────────────┴────────────────────────┴───────────────┘\n",
       "</pre>\n"
      ],
      "text/plain": [
       "┏━━━━━━━━━━━━━━━━━━━━━━━━━━━━━━━━━┳━━━━━━━━━━━━━━━━━━━━━━━━┳━━━━━━━━━━━━━━━┓\n",
       "┃\u001b[1m \u001b[0m\u001b[1mLayer (type)                   \u001b[0m\u001b[1m \u001b[0m┃\u001b[1m \u001b[0m\u001b[1mOutput Shape          \u001b[0m\u001b[1m \u001b[0m┃\u001b[1m \u001b[0m\u001b[1m      Param #\u001b[0m\u001b[1m \u001b[0m┃\n",
       "┡━━━━━━━━━━━━━━━━━━━━━━━━━━━━━━━━━╇━━━━━━━━━━━━━━━━━━━━━━━━╇━━━━━━━━━━━━━━━┩\n",
       "│ dense (\u001b[38;5;33mDense\u001b[0m)                   │ (\u001b[38;5;45mNone\u001b[0m, \u001b[38;5;34m16\u001b[0m)             │         \u001b[38;5;34m1,488\u001b[0m │\n",
       "├─────────────────────────────────┼────────────────────────┼───────────────┤\n",
       "│ dense_1 (\u001b[38;5;33mDense\u001b[0m)                 │ (\u001b[38;5;45mNone\u001b[0m, \u001b[38;5;34m8\u001b[0m)              │           \u001b[38;5;34m136\u001b[0m │\n",
       "├─────────────────────────────────┼────────────────────────┼───────────────┤\n",
       "│ dense_2 (\u001b[38;5;33mDense\u001b[0m)                 │ (\u001b[38;5;45mNone\u001b[0m, \u001b[38;5;34m1\u001b[0m)              │             \u001b[38;5;34m9\u001b[0m │\n",
       "└─────────────────────────────────┴────────────────────────┴───────────────┘\n"
      ]
     },
     "metadata": {},
     "output_type": "display_data"
    },
    {
     "data": {
      "text/html": [
       "<pre style=\"white-space:pre;overflow-x:auto;line-height:normal;font-family:Menlo,'DejaVu Sans Mono',consolas,'Courier New',monospace\"><span style=\"font-weight: bold\"> Total params: </span><span style=\"color: #00af00; text-decoration-color: #00af00\">1,633</span> (6.38 KB)\n",
       "</pre>\n"
      ],
      "text/plain": [
       "\u001b[1m Total params: \u001b[0m\u001b[38;5;34m1,633\u001b[0m (6.38 KB)\n"
      ]
     },
     "metadata": {},
     "output_type": "display_data"
    },
    {
     "data": {
      "text/html": [
       "<pre style=\"white-space:pre;overflow-x:auto;line-height:normal;font-family:Menlo,'DejaVu Sans Mono',consolas,'Courier New',monospace\"><span style=\"font-weight: bold\"> Trainable params: </span><span style=\"color: #00af00; text-decoration-color: #00af00\">1,633</span> (6.38 KB)\n",
       "</pre>\n"
      ],
      "text/plain": [
       "\u001b[1m Trainable params: \u001b[0m\u001b[38;5;34m1,633\u001b[0m (6.38 KB)\n"
      ]
     },
     "metadata": {},
     "output_type": "display_data"
    },
    {
     "data": {
      "text/html": [
       "<pre style=\"white-space:pre;overflow-x:auto;line-height:normal;font-family:Menlo,'DejaVu Sans Mono',consolas,'Courier New',monospace\"><span style=\"font-weight: bold\"> Non-trainable params: </span><span style=\"color: #00af00; text-decoration-color: #00af00\">0</span> (0.00 B)\n",
       "</pre>\n"
      ],
      "text/plain": [
       "\u001b[1m Non-trainable params: \u001b[0m\u001b[38;5;34m0\u001b[0m (0.00 B)\n"
      ]
     },
     "metadata": {},
     "output_type": "display_data"
    }
   ],
   "source": [
    "stock_ids_short = []\n",
    "stock_days = []\n",
    "separation_date = \"2014-01-15\"\n",
    "idx_train = data_ml.index[(data_ml['date']<separation_date)].tolist()\n",
    "idx_test = data_ml.index[(data_ml['date']>=separation_date)].tolist()\n",
    "\n",
    "training_sample = data_ml[data_ml.index.isin(idx_train)]\n",
    "testing_sample = data_ml[data_ml.index.isin(idx_test)]\n",
    "\n",
    "# 패널티 회귀 (chap 5)\n",
    "from sklearn.linear_model import ElasticNet\n",
    "\n",
    "y_penalized_train = training_sample['R1M_Usd'].values\n",
    "X_penalized_train = training_sample[features].values\n",
    "model = ElasticNet(alpha=0.1, l1_ratio=0.1)\n",
    "fit_pen_pred = model.fit(X_penalized_train, y_penalized_train)\n",
    "\n",
    "# 단순 트리 (chap 6)\n",
    "from sklearn import tree\n",
    "X = data_ml.iloc[:, 3:95]\n",
    "y = data_ml['R1M_Usd']\n",
    "\n",
    "fit_tree = tree.DecisionTreeRegressor(\n",
    "    min_samples_split=8000,\n",
    "    max_depth= 3,\n",
    "    ccp_alpha= 0.000001,\n",
    "    min_samples_leaf= 3500\n",
    "    )\n",
    "fit_tree.fit(X, y)\n",
    "\n",
    "# 랜덤 포레스트 (chap 6)\n",
    "from sklearn.ensemble import RandomForestRegressor\n",
    "fit_RF = RandomForestRegressor(n_estimators= 40,\n",
    "                               criterion='squared_error',\n",
    "                               min_samples_split=250,\n",
    "                               bootstrap=True,\n",
    "                               max_features=30,\n",
    "                               max_samples=10000\n",
    "                               )\n",
    "y_train = training_sample['R1M_Usd'].values\n",
    "X_train = training_sample[features].values\n",
    "\n",
    "fit_RF.fit(X_train, y_train)\n",
    "\n",
    "# xgboost (chap 6)\n",
    "import xgboost as xgb\n",
    "mono_const=\"(0, 0, -1, 1, 0, -1, 0)\"\n",
    "train_matrix_xgb = xgb.DMatrix(X_train, y_train)\n",
    "params={'eta':0.3, #학습률\n",
    "        'objective':\"reg:squarederror\", #목적함수 \n",
    "        'max_depth':4, #트리의 최고 깊이\n",
    "        'subsample':0.6, #샘플 중 무작위적으로 60%를 선택해 훈련\n",
    "        'colsample_bytree':0.7, #예측 인자 중 무작위적으로 70%를 선택해 훈련\n",
    "        'lambda':1, #나뭇잎 값에 대한 규제화\n",
    "        'gamma':0.1, #나뭇잎 개수에 대한 규제화\n",
    "        'nrounds':30, #사용한 트리 개수\n",
    "        'monotone_constraints':mono_const, #단조성 제약 조건\n",
    "        'rate_drop':0.1, #DART를 위한 드롭률\n",
    "        'verbose':0} #메시지 없음\n",
    "fit_xgb = xgb.train(params, train_matrix_xgb)\n",
    "\n",
    "# 피드백포워드 신경망 (chap 7)\n",
    "from tensorflow import keras\n",
    "from tensorflow.keras import layers\n",
    "import tensorflow as tf\n",
    "from plot_keras_history import show_history, plot_history\n",
    "\n",
    "\n",
    "NN_test_features = testing_sample[features].values\n",
    "NN_test_labels = testing_sample['R1M_Usd'].values\n",
    "\n",
    "model = keras.Sequential()\n",
    "model.add(layers.Dense(16, activation=\"relu\", input_shape=(len(features),)))\n",
    "model.add(layers.Dense(8,activation=\"tanh\"))\n",
    "model.add(layers.Dense(1))\n",
    "def custom_loss(y_true, y_pred):\n",
    "    loss = tf.reduce_mean(\n",
    "        tf.square(y_pred - tf.reduce_mean(y_pred))) -5 * tf.reduce_mean(\n",
    "        (y_true - tf.reduce_mean(y_true)) * (y_pred - tf.reduce_mean(y_pred)))\n",
    "    return loss\n",
    "\n",
    "model.compile(optimizer='RMSprop',\n",
    "              loss=custom_loss,\n",
    "              metrics=['MeanAbsoluteError'])\n",
    "model.summary()\n",
    "\n",
    "fit_NN = model.fit(\n",
    "    X_train,\n",
    "    y_train,\n",
    "    batch_size=512,\n",
    "    epochs=10,\n",
    "    validation_data=(NN_test_features,NN_test_labels),\n",
    "    verbose=False\n",
    ")"
   ]
  },
  {
   "cell_type": "code",
   "execution_count": null,
   "metadata": {},
   "outputs": [],
   "source": [
    "\"\"\"\n",
    "stock_ids_short = []\n",
    "stock_days = []\n",
    "\n",
    "# 각 주식별 데이터 포인트 개수 세기\n",
    "stock_ids = data_ml['stock_id'].unique()\n",
    "stock_days = data_ml[['date', 'stock_id']].groupby(\n",
    "    ['stock_id']).count().reset_index()\n",
    "\n",
    "# 데이터가 모두 있는 주식을 리스트로 변환\n",
    "stock_ids_short = stock_days.loc[\n",
    "    stock_days['date'] == (stock_days['date'].max())]\n",
    "stock_ids_short = stock_ids_short['stock_id'].unique()\n",
    "is_stock_ids_short = data_ml['stock_id'].isin(stock_ids_short)\n",
    "data_ml_unique = data_ml[is_stock_ids_short].drop_duplicates(subset=['date', 'stock_id'])\n",
    "\n",
    "\n",
    "returns = data_ml_unique[is_stock_ids_short].pivot(\n",
    "    index='date', columns='stock_id', values='R1M_Usd'\n",
    ")\n",
    "\n",
    "data_rnn = data_ml[data_ml['stock_id'].isin(stock_ids_short)]\n",
    "training_sample_rnn = data_rnn[data_rnn['date']<separation_date]\n",
    "testing_sample_rnn = data_rnn[data_rnn['date']>separation_date]\n",
    "\n",
    "nb_stocks = len(stock_ids_short)\n",
    "nb_feats = len(features)\n",
    "nb_dates_train = training_sample_rnn.shape[0] // nb_stocks\n",
    "nb_dates_test = testing_sample_rnn.shape[0] // nb_stocks\n",
    "\n",
    "nn_train_features = training_sample_rnn[features].values\n",
    "nn_test_features = testing_sample_rnn[features].values\n",
    "nn_train_labels = training_sample_rnn['R1M_Usd'].values\n",
    "nn_test_labels = testing_sample_rnn['R1M_Usd'].values\n",
    "\n",
    "# 데이터 변환: nn_train_features를 (nb_dates_train, nb_stocks, nb_feats) 형식으로 재구성\n",
    "train_features_rnn = np.reshape(nn_train_features, (nb_dates_train, nb_stocks, nb_feats))\n",
    "test_features_rnn = np.reshape(nn_test_features, (nb_dates_test, nb_stocks, nb_feats))\n",
    "\n",
    "# GRU에 맞게 배치 차원으로 변환: (nb_stocks, nb_dates_train, nb_feats)\n",
    "train_features_rnn = train_features_rnn.transpose(1, 0, 2)  # \n",
    "test_features_rnn = test_features_rnn.transpose(1, 0, 2)  # \n",
    "\n",
    "# 레이블도 동일한 형식으로 변환\n",
    "train_labels_rnn = np.reshape(nn_train_labels, (nb_stocks, nb_dates_train, 1))\n",
    "test_labels_rnn = np.reshape(nn_test_labels, (nb_stocks, nb_dates_test, 1))\n",
    "\n",
    "model_RNN = keras.Sequential()\n",
    "model_RNN.add(layers.GRU(16, input_shape= (nb_dates_train, nb_feats),\n",
    "                         activation='tanh',\n",
    "                         return_sequences=True))\n",
    "model_RNN.add(layers.Dense(1))\n",
    "model_RNN.compile(optimizer='RMSprop', #손실 = 이차\n",
    "                  loss='mse', # 역전파\n",
    "                  metrics=['MeanAbsoluteError'])\n",
    "\n",
    "fit_RNN = model_RNN.fit(train_features_rnn,\n",
    "                        train_labels_rnn,\n",
    "                        epochs = 10,\n",
    "                        batch_size = nb_stocks,\n",
    "                        verbose=False)\n",
    "show_history(fit_RNN)\n",
    "\"\"\""
   ]
  },
  {
   "cell_type": "markdown",
   "metadata": {},
   "source": [
    "NN 모델 값이 너무 이질적으로 나와.. 보류"
   ]
  },
  {
   "cell_type": "code",
   "execution_count": 7,
   "metadata": {},
   "outputs": [
    {
     "name": "stderr",
     "output_type": "stream",
     "text": [
      "c:\\ProgramData\\miniconda3\\envs\\tensor\\Lib\\site-packages\\sklearn\\base.py:486: UserWarning: X has feature names, but RandomForestRegressor was fitted without feature names\n",
      "  warnings.warn(\n"
     ]
    },
    {
     "name": "stdout",
     "output_type": "stream",
     "text": [
      "\u001b[1m12383/12383\u001b[0m \u001b[32m━━━━━━━━━━━━━━━━━━━━\u001b[0m\u001b[37m\u001b[0m \u001b[1m5s\u001b[0m 423us/step\n"
     ]
    },
    {
     "data": {
      "text/html": [
       "<div>\n",
       "<style scoped>\n",
       "    .dataframe tbody tr th:only-of-type {\n",
       "        vertical-align: middle;\n",
       "    }\n",
       "\n",
       "    .dataframe tbody tr th {\n",
       "        vertical-align: top;\n",
       "    }\n",
       "\n",
       "    .dataframe thead th {\n",
       "        text-align: right;\n",
       "    }\n",
       "</style>\n",
       "<table border=\"1\" class=\"dataframe\">\n",
       "  <thead>\n",
       "    <tr style=\"text-align: right;\">\n",
       "      <th></th>\n",
       "      <th>Pen_reg</th>\n",
       "      <th>Tree</th>\n",
       "      <th>RF</th>\n",
       "      <th>XGB</th>\n",
       "    </tr>\n",
       "  </thead>\n",
       "  <tbody>\n",
       "    <tr>\n",
       "      <th>Pen_reg</th>\n",
       "      <td>1.000000</td>\n",
       "      <td>0.998251</td>\n",
       "      <td>0.995626</td>\n",
       "      <td>0.975584</td>\n",
       "    </tr>\n",
       "    <tr>\n",
       "      <th>Tree</th>\n",
       "      <td>0.998251</td>\n",
       "      <td>1.000000</td>\n",
       "      <td>0.996458</td>\n",
       "      <td>0.976957</td>\n",
       "    </tr>\n",
       "    <tr>\n",
       "      <th>RF</th>\n",
       "      <td>0.995626</td>\n",
       "      <td>0.996458</td>\n",
       "      <td>1.000000</td>\n",
       "      <td>0.976550</td>\n",
       "    </tr>\n",
       "    <tr>\n",
       "      <th>XGB</th>\n",
       "      <td>0.975584</td>\n",
       "      <td>0.976957</td>\n",
       "      <td>0.976550</td>\n",
       "      <td>1.000000</td>\n",
       "    </tr>\n",
       "  </tbody>\n",
       "</table>\n",
       "</div>"
      ],
      "text/plain": [
       "          Pen_reg      Tree        RF       XGB\n",
       "Pen_reg  1.000000  0.998251  0.995626  0.975584\n",
       "Tree     0.998251  1.000000  0.996458  0.976957\n",
       "RF       0.995626  0.996458  1.000000  0.976550\n",
       "XGB      0.975584  0.976957  0.976550  1.000000"
      ]
     },
     "execution_count": 7,
     "metadata": {},
     "output_type": "execute_result"
    }
   ],
   "source": [
    "err_pen_train = fit_pen_pred.predict(\n",
    "    X_penalized_train) - training_sample['R1M_Usd'] #회귀\n",
    "err_tree_train = fit_tree.predict(\n",
    "    training_sample[features]) - training_sample['R1M_Usd'] #트리\n",
    "err_RF_train = fit_RF.predict(\n",
    "    training_sample[features]) - training_sample['R1M_Usd'] # 랜덤 포레스트\n",
    "err_XGB_train = fit_xgb.predict(\n",
    "    train_matrix_xgb) - training_sample['R1M_Usd'] # XGBoost\n",
    "err_NN_train = model.predict(\n",
    "    training_sample[features]) - training_sample['R1M_Usd'].values.reshape((-1,1)) # 신경망\n",
    "\"\"\"\n",
    "E = pd.concat(\n",
    "    [err_pen_train, err_tree_train, err_RF_train, err_XGB_train, pd.DataFrame(err_NN_train)], axis=1)\n",
    "E = E.set_axis(['Pen_reg', 'Tree', 'RF', 'XGB', 'NN'], axis=1)\n",
    "E.corr()\n",
    "\"\"\"\n",
    "E = pd.concat(\n",
    "    [err_pen_train, err_tree_train, err_RF_train, err_XGB_train], axis=1)\n",
    "E = E.set_axis(['Pen_reg', 'Tree', 'RF', 'XGB'], axis=1)\n",
    "E.corr()"
   ]
  },
  {
   "cell_type": "code",
   "execution_count": 13,
   "metadata": {},
   "outputs": [
    {
     "data": {
      "text/plain": [
       "Pen_reg    0.992365\n",
       "Tree       0.992916\n",
       "RF         0.992158\n",
       "XGB        0.982273\n",
       "dtype: float64"
      ]
     },
     "execution_count": 13,
     "metadata": {},
     "output_type": "execute_result"
    }
   ],
   "source": [
    "E.corr().mean()"
   ]
  },
  {
   "cell_type": "code",
   "execution_count": 9,
   "metadata": {},
   "outputs": [
    {
     "data": {
      "text/plain": [
       "Pen_reg    0.083459\n",
       "Tree       0.083668\n",
       "RF         0.083397\n",
       "XGB        0.083370\n",
       "dtype: float64"
      ]
     },
     "execution_count": 9,
     "metadata": {},
     "output_type": "execute_result"
    }
   ],
   "source": [
    "abs(E).mean()"
   ]
  },
  {
   "cell_type": "code",
   "execution_count": 10,
   "metadata": {},
   "outputs": [
    {
     "data": {
      "text/plain": [
       "array([-0.31626807, -0.96003017,  0.31690191,  1.95939632])"
      ]
     },
     "execution_count": 10,
     "metadata": {},
     "output_type": "execute_result"
    }
   ],
   "source": [
    "w_ensemble = np.linalg.inv((E.T.values@E.values))@np.ones(4)\n",
    "w_ensemble /= np.sum(w_ensemble)\n",
    "w_ensemble"
   ]
  },
  {
   "cell_type": "code",
   "execution_count": 20,
   "metadata": {},
   "outputs": [
    {
     "name": "stderr",
     "output_type": "stream",
     "text": [
      "c:\\ProgramData\\miniconda3\\envs\\tensor\\Lib\\site-packages\\sklearn\\base.py:486: UserWarning: X has feature names, but RandomForestRegressor was fitted without feature names\n",
      "  warnings.warn(\n"
     ]
    },
    {
     "data": {
      "text/plain": [
       "Pen_reg    0.066182\n",
       "Tree       0.066505\n",
       "RF         0.067373\n",
       "XGB        0.067628\n",
       "dtype: float64"
      ]
     },
     "execution_count": 20,
     "metadata": {},
     "output_type": "execute_result"
    }
   ],
   "source": [
    "y_test = testing_sample['R1M_Usd'].values\n",
    "X_test = testing_sample[features].values\n",
    "test_matrix_xgb = xgb.DMatrix(X_test)\n",
    "X_penalized_test = testing_sample[features].values\n",
    "\n",
    "\n",
    "err_pen_test = fit_pen_pred.predict(\n",
    "    X_penalized_test) - testing_sample['R1M_Usd'] #회귀\n",
    "err_tree_test = fit_tree.predict(\n",
    "    testing_sample[features]) - testing_sample['R1M_Usd'] #트리\n",
    "err_RF_test = fit_RF.predict(\n",
    "    testing_sample[features]) - testing_sample['R1M_Usd'] #랜덤 포레스트\n",
    "err_XGB_test = fit_xgb.predict(\n",
    "    test_matrix_xgb) - testing_sample['R1M_Usd'] #XGBoost\n",
    "#err_NN_test = model.predict(\n",
    "#    testing_sample[features_short]) - testing_sample['R1M_Usd'].values.reshape((-1,1))\n",
    "\n",
    "E_test = pd.concat(\n",
    "    [err_pen_test, err_tree_test, err_RF_test, err_XGB_test], axis=1)\n",
    "E_test = E_test.set_axis(['Pen_reg', 'Tree', 'RF', 'XGB'], axis=1)\n",
    "abs(E_test).mean()"
   ]
  },
  {
   "cell_type": "code",
   "execution_count": 21,
   "metadata": {},
   "outputs": [
    {
     "name": "stdout",
     "output_type": "stream",
     "text": [
      "equally weight combination: 0.06663224051447005\n"
     ]
    }
   ],
   "source": [
    "err_EW_test = np.mean(np.abs(E_test.mean(axis=1)))\n",
    "print(f'equally weight combination: {err_EW_test}')"
   ]
  },
  {
   "cell_type": "markdown",
   "metadata": {},
   "source": [
    "최적 가중치 테스트"
   ]
  },
  {
   "cell_type": "code",
   "execution_count": 23,
   "metadata": {},
   "outputs": [
    {
     "name": "stdout",
     "output_type": "stream",
     "text": [
      "Optimal unconstrained combination: 0.07010721140454386\n"
     ]
    }
   ],
   "source": [
    "err_opt_test = np.mean(np.abs(E_test.values@w_ensemble))\n",
    "print(f'Optimal unconstrained combination: {err_opt_test}')\n",
    "# 최적 솔루션이지만, 결과는 좋지 않다. 휴리스틱한 균등 결합보다 성능이 떨어진다."
   ]
  },
  {
   "cell_type": "code",
   "execution_count": 24,
   "metadata": {},
   "outputs": [
    {
     "name": "stdout",
     "output_type": "stream",
     "text": [
      "     pcost       dcost       gap    pres   dres\n",
      " 0:  9.2856e+03  9.2875e+03  2e+01  4e+00  6e+00\n",
      " 1:  9.2858e+03  9.2937e+03  7e+00  2e+00  3e+00\n",
      " 2:  9.2935e+03  9.3202e+03  9e+00  1e+00  2e+00\n",
      " 3:  9.3333e+03  9.3955e+03  4e+01  8e-01  1e+00\n",
      " 4:  9.3275e+03  9.5250e+03  9e+01  8e-01  1e+00\n",
      " 5:  9.5492e+03  9.7733e+03  7e+00  2e-01  3e-01\n",
      " 6:  9.8307e+03  9.8284e+03  2e+00  1e-16  1e-11\n",
      " 7:  9.8285e+03  9.8285e+03  2e-02  1e-19  5e-12\n",
      " 8:  9.8285e+03  9.8285e+03  2e-04  2e-16  6e-12\n",
      "Optimal solution found.\n",
      "[ 2.17e-08]\n",
      "[ 8.90e-08]\n",
      "[ 1.08e-07]\n",
      "[ 1.00e+00]\n",
      "\n"
     ]
    }
   ],
   "source": [
    "from cvxopt import matrix, solvers #이차 계획법을 위한 라이브러리\n",
    "sigma = E.T.values@E.values #스케일링되지 않은 공분산 행렬\n",
    "nb_mods = 4 #모델 개수\n",
    "\n",
    "# 대칭적 이차-비용 행렬\n",
    "Q = 2*matrix(sigma, tc=\"d\")\n",
    "# 이차 비용 벡터\n",
    "p = matrix(np.zeros(nb_mods), tc=\"d\")\n",
    "# 선형 부등식 제약 행렬\n",
    "G = matrix(-np.eye(nb_mods), tc=\"d\")\n",
    "# 선형 부등식 제약 벡터\n",
    "h = matrix(np.zeros(nb_mods), tc=\"d\")\n",
    "# 선형 등식 제약 조건을 위한 행렬\n",
    "A = matrix(np.ones(nb_mods), (1, nb_mods))\n",
    "# 선형 등식 제약 조건을 위한 벡터\n",
    "b = matrix(1.0)\n",
    "# 솔루션\n",
    "w_const = solvers.qp(Q, p, G, h, A, b)\n",
    "print(w_const['x'])"
   ]
  },
  {
   "cell_type": "code",
   "execution_count": null,
   "metadata": {},
   "outputs": [],
   "source": [
    "#가중치 희소 / 하나의 모델에 치중"
   ]
  },
  {
   "cell_type": "markdown",
   "metadata": {},
   "source": [
    "11.2 스택 앙상블"
   ]
  },
  {
   "cell_type": "markdown",
   "metadata": {},
   "source": [
    "저차원 신경망 생성"
   ]
  },
  {
   "cell_type": "code",
   "execution_count": 25,
   "metadata": {},
   "outputs": [
    {
     "name": "stderr",
     "output_type": "stream",
     "text": [
      "c:\\ProgramData\\miniconda3\\envs\\tensor\\Lib\\site-packages\\keras\\src\\layers\\core\\dense.py:87: UserWarning: Do not pass an `input_shape`/`input_dim` argument to a layer. When using Sequential models, prefer using an `Input(shape)` object as the first layer in the model instead.\n",
      "  super().__init__(activity_regularizer=activity_regularizer, **kwargs)\n"
     ]
    }
   ],
   "source": [
    "model_stack = keras.Sequential()\n",
    "model_stack.add(layers.Dense(8, activation=\"relu\", input_shape = (nb_mods,)))\n",
    "model_stack.add(layers.Dense(4, activation=\"tanh\"))\n",
    "model_stack.add(layers.Dense(1))"
   ]
  },
  {
   "cell_type": "code",
   "execution_count": 26,
   "metadata": {},
   "outputs": [
    {
     "data": {
      "text/html": [
       "<pre style=\"white-space:pre;overflow-x:auto;line-height:normal;font-family:Menlo,'DejaVu Sans Mono',consolas,'Courier New',monospace\"><span style=\"font-weight: bold\">Model: \"sequential_1\"</span>\n",
       "</pre>\n"
      ],
      "text/plain": [
       "\u001b[1mModel: \"sequential_1\"\u001b[0m\n"
      ]
     },
     "metadata": {},
     "output_type": "display_data"
    },
    {
     "data": {
      "text/html": [
       "<pre style=\"white-space:pre;overflow-x:auto;line-height:normal;font-family:Menlo,'DejaVu Sans Mono',consolas,'Courier New',monospace\">┏━━━━━━━━━━━━━━━━━━━━━━━━━━━━━━━━━┳━━━━━━━━━━━━━━━━━━━━━━━━┳━━━━━━━━━━━━━━━┓\n",
       "┃<span style=\"font-weight: bold\"> Layer (type)                    </span>┃<span style=\"font-weight: bold\"> Output Shape           </span>┃<span style=\"font-weight: bold\">       Param # </span>┃\n",
       "┡━━━━━━━━━━━━━━━━━━━━━━━━━━━━━━━━━╇━━━━━━━━━━━━━━━━━━━━━━━━╇━━━━━━━━━━━━━━━┩\n",
       "│ dense_3 (<span style=\"color: #0087ff; text-decoration-color: #0087ff\">Dense</span>)                 │ (<span style=\"color: #00d7ff; text-decoration-color: #00d7ff\">None</span>, <span style=\"color: #00af00; text-decoration-color: #00af00\">8</span>)              │            <span style=\"color: #00af00; text-decoration-color: #00af00\">40</span> │\n",
       "├─────────────────────────────────┼────────────────────────┼───────────────┤\n",
       "│ dense_4 (<span style=\"color: #0087ff; text-decoration-color: #0087ff\">Dense</span>)                 │ (<span style=\"color: #00d7ff; text-decoration-color: #00d7ff\">None</span>, <span style=\"color: #00af00; text-decoration-color: #00af00\">4</span>)              │            <span style=\"color: #00af00; text-decoration-color: #00af00\">36</span> │\n",
       "├─────────────────────────────────┼────────────────────────┼───────────────┤\n",
       "│ dense_5 (<span style=\"color: #0087ff; text-decoration-color: #0087ff\">Dense</span>)                 │ (<span style=\"color: #00d7ff; text-decoration-color: #00d7ff\">None</span>, <span style=\"color: #00af00; text-decoration-color: #00af00\">1</span>)              │             <span style=\"color: #00af00; text-decoration-color: #00af00\">5</span> │\n",
       "└─────────────────────────────────┴────────────────────────┴───────────────┘\n",
       "</pre>\n"
      ],
      "text/plain": [
       "┏━━━━━━━━━━━━━━━━━━━━━━━━━━━━━━━━━┳━━━━━━━━━━━━━━━━━━━━━━━━┳━━━━━━━━━━━━━━━┓\n",
       "┃\u001b[1m \u001b[0m\u001b[1mLayer (type)                   \u001b[0m\u001b[1m \u001b[0m┃\u001b[1m \u001b[0m\u001b[1mOutput Shape          \u001b[0m\u001b[1m \u001b[0m┃\u001b[1m \u001b[0m\u001b[1m      Param #\u001b[0m\u001b[1m \u001b[0m┃\n",
       "┡━━━━━━━━━━━━━━━━━━━━━━━━━━━━━━━━━╇━━━━━━━━━━━━━━━━━━━━━━━━╇━━━━━━━━━━━━━━━┩\n",
       "│ dense_3 (\u001b[38;5;33mDense\u001b[0m)                 │ (\u001b[38;5;45mNone\u001b[0m, \u001b[38;5;34m8\u001b[0m)              │            \u001b[38;5;34m40\u001b[0m │\n",
       "├─────────────────────────────────┼────────────────────────┼───────────────┤\n",
       "│ dense_4 (\u001b[38;5;33mDense\u001b[0m)                 │ (\u001b[38;5;45mNone\u001b[0m, \u001b[38;5;34m4\u001b[0m)              │            \u001b[38;5;34m36\u001b[0m │\n",
       "├─────────────────────────────────┼────────────────────────┼───────────────┤\n",
       "│ dense_5 (\u001b[38;5;33mDense\u001b[0m)                 │ (\u001b[38;5;45mNone\u001b[0m, \u001b[38;5;34m1\u001b[0m)              │             \u001b[38;5;34m5\u001b[0m │\n",
       "└─────────────────────────────────┴────────────────────────┴───────────────┘\n"
      ]
     },
     "metadata": {},
     "output_type": "display_data"
    },
    {
     "data": {
      "text/html": [
       "<pre style=\"white-space:pre;overflow-x:auto;line-height:normal;font-family:Menlo,'DejaVu Sans Mono',consolas,'Courier New',monospace\"><span style=\"font-weight: bold\"> Total params: </span><span style=\"color: #00af00; text-decoration-color: #00af00\">81</span> (324.00 B)\n",
       "</pre>\n"
      ],
      "text/plain": [
       "\u001b[1m Total params: \u001b[0m\u001b[38;5;34m81\u001b[0m (324.00 B)\n"
      ]
     },
     "metadata": {},
     "output_type": "display_data"
    },
    {
     "data": {
      "text/html": [
       "<pre style=\"white-space:pre;overflow-x:auto;line-height:normal;font-family:Menlo,'DejaVu Sans Mono',consolas,'Courier New',monospace\"><span style=\"font-weight: bold\"> Trainable params: </span><span style=\"color: #00af00; text-decoration-color: #00af00\">81</span> (324.00 B)\n",
       "</pre>\n"
      ],
      "text/plain": [
       "\u001b[1m Trainable params: \u001b[0m\u001b[38;5;34m81\u001b[0m (324.00 B)\n"
      ]
     },
     "metadata": {},
     "output_type": "display_data"
    },
    {
     "data": {
      "text/html": [
       "<pre style=\"white-space:pre;overflow-x:auto;line-height:normal;font-family:Menlo,'DejaVu Sans Mono',consolas,'Courier New',monospace\"><span style=\"font-weight: bold\"> Non-trainable params: </span><span style=\"color: #00af00; text-decoration-color: #00af00\">0</span> (0.00 B)\n",
       "</pre>\n"
      ],
      "text/plain": [
       "\u001b[1m Non-trainable params: \u001b[0m\u001b[38;5;34m0\u001b[0m (0.00 B)\n"
      ]
     },
     "metadata": {},
     "output_type": "display_data"
    }
   ],
   "source": [
    "model_stack.compile(optimizer='RMSprop',\n",
    "                    loss='mse',\n",
    "                    metrics=['MeanAbsoluteError'])\n",
    "model_stack.summary()"
   ]
  },
  {
   "cell_type": "code",
   "execution_count": 27,
   "metadata": {},
   "outputs": [
    {
     "name": "stdout",
     "output_type": "stream",
     "text": [
      "Epoch 1/12\n",
      "\u001b[1m774/774\u001b[0m \u001b[32m━━━━━━━━━━━━━━━━━━━━\u001b[0m\u001b[37m\u001b[0m \u001b[1m1s\u001b[0m 831us/step - MeanAbsoluteError: 0.0835 - loss: 0.0256 - val_MeanAbsoluteError: 0.0672 - val_loss: 0.0365\n",
      "Epoch 2/12\n",
      "\u001b[1m774/774\u001b[0m \u001b[32m━━━━━━━━━━━━━━━━━━━━\u001b[0m\u001b[37m\u001b[0m \u001b[1m1s\u001b[0m 683us/step - MeanAbsoluteError: 0.0837 - loss: 0.0379 - val_MeanAbsoluteError: 0.0678 - val_loss: 0.0363\n",
      "Epoch 3/12\n",
      "\u001b[1m774/774\u001b[0m \u001b[32m━━━━━━━━━━━━━━━━━━━━\u001b[0m\u001b[37m\u001b[0m \u001b[1m1s\u001b[0m 691us/step - MeanAbsoluteError: 0.0834 - loss: 0.0250 - val_MeanAbsoluteError: 0.0680 - val_loss: 0.0362\n",
      "Epoch 4/12\n",
      "\u001b[1m774/774\u001b[0m \u001b[32m━━━━━━━━━━━━━━━━━━━━\u001b[0m\u001b[37m\u001b[0m \u001b[1m1s\u001b[0m 702us/step - MeanAbsoluteError: 0.0836 - loss: 0.0261 - val_MeanAbsoluteError: 0.0682 - val_loss: 0.0361\n",
      "Epoch 5/12\n",
      "\u001b[1m774/774\u001b[0m \u001b[32m━━━━━━━━━━━━━━━━━━━━\u001b[0m\u001b[37m\u001b[0m \u001b[1m1s\u001b[0m 668us/step - MeanAbsoluteError: 0.0837 - loss: 0.0274 - val_MeanAbsoluteError: 0.0684 - val_loss: 0.0362\n",
      "Epoch 6/12\n",
      "\u001b[1m774/774\u001b[0m \u001b[32m━━━━━━━━━━━━━━━━━━━━\u001b[0m\u001b[37m\u001b[0m \u001b[1m1s\u001b[0m 675us/step - MeanAbsoluteError: 0.0838 - loss: 0.0309 - val_MeanAbsoluteError: 0.0686 - val_loss: 0.0361\n",
      "Epoch 7/12\n",
      "\u001b[1m774/774\u001b[0m \u001b[32m━━━━━━━━━━━━━━━━━━━━\u001b[0m\u001b[37m\u001b[0m \u001b[1m1s\u001b[0m 698us/step - MeanAbsoluteError: 0.0834 - loss: 0.0243 - val_MeanAbsoluteError: 0.0684 - val_loss: 0.0360\n",
      "Epoch 8/12\n",
      "\u001b[1m774/774\u001b[0m \u001b[32m━━━━━━━━━━━━━━━━━━━━\u001b[0m\u001b[37m\u001b[0m \u001b[1m1s\u001b[0m 684us/step - MeanAbsoluteError: 0.0833 - loss: 0.0225 - val_MeanAbsoluteError: 0.0687 - val_loss: 0.0361\n",
      "Epoch 9/12\n",
      "\u001b[1m774/774\u001b[0m \u001b[32m━━━━━━━━━━━━━━━━━━━━\u001b[0m\u001b[37m\u001b[0m \u001b[1m1s\u001b[0m 682us/step - MeanAbsoluteError: 0.0840 - loss: 0.0290 - val_MeanAbsoluteError: 0.0687 - val_loss: 0.0360\n",
      "Epoch 10/12\n",
      "\u001b[1m774/774\u001b[0m \u001b[32m━━━━━━━━━━━━━━━━━━━━\u001b[0m\u001b[37m\u001b[0m \u001b[1m1s\u001b[0m 692us/step - MeanAbsoluteError: 0.0837 - loss: 0.0295 - val_MeanAbsoluteError: 0.0689 - val_loss: 0.0360\n",
      "Epoch 11/12\n",
      "\u001b[1m774/774\u001b[0m \u001b[32m━━━━━━━━━━━━━━━━━━━━\u001b[0m\u001b[37m\u001b[0m \u001b[1m1s\u001b[0m 669us/step - MeanAbsoluteError: 0.0837 - loss: 0.0260 - val_MeanAbsoluteError: 0.0689 - val_loss: 0.0360\n",
      "Epoch 12/12\n",
      "\u001b[1m774/774\u001b[0m \u001b[32m━━━━━━━━━━━━━━━━━━━━\u001b[0m\u001b[37m\u001b[0m \u001b[1m1s\u001b[0m 671us/step - MeanAbsoluteError: 0.0837 - loss: 0.0244 - val_MeanAbsoluteError: 0.0690 - val_loss: 0.0360\n"
     ]
    },
    {
     "data": {
      "image/png": "[encoded data removed]",
      "text/plain": [
       "<Figure size 1000x500 with 2 Axes>"
      ]
     },
     "metadata": {},
     "output_type": "display_data"
    }
   ],
   "source": [
    "NN_train_features = training_sample[features].values\n",
    "NN_train_labels = training_sample['R1M_Usd'].values\n",
    "NN_test_features = testing_sample[features].values\n",
    "NN_test_labels = testing_sample['R1M_Usd'].values\n",
    "\n",
    "y_tilde = E.values+np.tile(\n",
    "    training_sample['R1M_Usd'].values.reshape(-1,1), nb_mods)\n",
    "y_test = E_test.values+np.tile(\n",
    "    testing_sample['R1M_Usd'].values.reshape(-1,1), nb_mods)\n",
    "fit_NN_stack = model_stack.fit(y_tilde,\n",
    "                               NN_train_labels,\n",
    "                               batch_size=512,\n",
    "                               epochs=12,\n",
    "                               verbose=1,\n",
    "                               validation_data=(y_test, NN_test_labels))\n",
    "show_history(fit_NN_stack)"
   ]
  },
  {
   "cell_type": "code",
   "execution_count": null,
   "metadata": {},
   "outputs": [],
   "source": [
    "# 실망 스러운 성능\n",
    "# 학습 곡선이 평평- 역전파 라운드 쓸모 X,학습이 거의 가치를 추가하지 못함\n",
    "# 머신러닝의 새로운 최상위 레이어가 원래 예측을 향상시키지 못한다는 의미.\n",
    "\n",
    "# -> 모든 머신러닝 엔진이 동일한 패턴을 포착하는 것으로 보임. (선형, 비선형 모두 성능 개선 X)"
   ]
  },
  {
   "cell_type": "markdown",
   "metadata": {},
   "source": [
    "11.3 확장"
   ]
  },
  {
   "cell_type": "code",
   "execution_count": null,
   "metadata": {},
   "outputs": [],
   "source": []
  }
 ],
 "metadata": {
  "kernelspec": {
   "display_name": "tensor",
   "language": "python",
   "name": "python3"
  },
  "language_info": {
   "codemirror_mode": {
    "name": "ipython",
    "version": 3
   },
   "file_extension": ".py",
   "mimetype": "text/x-python",
   "name": "python",
   "nbconvert_exporter": "python",
   "pygments_lexer": "ipython3",
   "version": "3.12.7"
  }
 },
 "nbformat": 4,
 "nbformat_minor": 2
}
