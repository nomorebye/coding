{
 "cells": [
  {
   "cell_type": "markdown",
   "metadata": {},
   "source": [
    "8장 서포트 벡터 머신"
   ]
  },
  {
   "cell_type": "code",
   "execution_count": 1,
   "metadata": {},
   "outputs": [
    {
     "name": "stderr",
     "output_type": "stream",
     "text": [
      "C:\\Users\\Administrator\\AppData\\Local\\Temp\\ipykernel_30280\\1726175837.py:29: SettingWithCopyWarning: \n",
      "A value is trying to be set on a copy of a slice from a DataFrame.\n",
      "Try using .loc[row_indexer,col_indexer] = value instead\n",
      "\n",
      "See the caveats in the documentation: https://pandas.pydata.org/pandas-docs/stable/user_guide/indexing.html#returning-a-view-versus-a-copy\n",
      "  data_ml['R1M_Usd_C'] = np.where(\n",
      "C:\\Users\\Administrator\\AppData\\Local\\Temp\\ipykernel_30280\\1726175837.py:31: SettingWithCopyWarning: \n",
      "A value is trying to be set on a copy of a slice from a DataFrame.\n",
      "Try using .loc[row_indexer,col_indexer] = value instead\n",
      "\n",
      "See the caveats in the documentation: https://pandas.pydata.org/pandas-docs/stable/user_guide/indexing.html#returning-a-view-versus-a-copy\n",
      "  data_ml['R12M_Usd_C'] = np.where(\n"
     ]
    }
   ],
   "source": [
    "import pandas as pd\n",
    "import numpy as np\n",
    "import matplotlib.pyplot as plt\n",
    "data_raw = pd.read_csv('data_ml.csv')\n",
    "idx_date = data_raw.index[(\n",
    "    data_raw['date'] > '1999-12-31') & (\n",
    "    data_raw['date'] < '2019-01-01')].tolist()\n",
    "#날짜를 받기 위한 인덱스 생성\n",
    "data_ml = data_raw.iloc[idx_date]\n",
    "#날짜 인덱스에 따라 데이터셋 필터링\n",
    "data_ml.iloc[0:6, 0:6]\n",
    "\n",
    "features = list(data_ml.iloc[:, 3:95].columns)\n",
    "# 특성의 열 이름 저장 \n",
    "features_short = [\"Div_Yld\", \"Eps\", \"Mkt_Cap_12M_Usd\",\n",
    "                  \"Mom_11M_Usd\", \"Ocf\", \"Pb\", \"Vol1Y_Usd\"]\n",
    "\n",
    "df_median = []\n",
    "df = []\n",
    "\n",
    "df_median = data_ml[['date', 'R1M_Usd', 'R12M_Usd']].groupby(\n",
    "    ['date']).median()\n",
    "df_median.rename(\n",
    "    columns={\"R1M_Usd\": \"R1M_Usd_median\",\n",
    "             \"R12M_Usd\": \"R12M_Usd_median\"}, inplace=True)\n",
    "\n",
    "df = pd.merge(data_ml, df_median, how='left', on=['date'])\n",
    "\n",
    "data_ml['R1M_Usd_C'] = np.where(\n",
    "    df['R1M_Usd'] > df['R1M_Usd_median'], 1.0, 0.0)\n",
    "data_ml['R12M_Usd_C'] = np.where(\n",
    "    df['R12M_Usd'] > df['R12M_Usd_median'], 1.0, 0.0)\n",
    "\n",
    "separation_date = \"2014-01-15\"\n",
    "idx_train = data_ml.index[(data_ml['date']<separation_date)].tolist()\n",
    "idx_test = data_ml.index[(data_ml['date']>=separation_date)].tolist()\n",
    "training_sample = data_ml[data_ml.index.isin(idx_train)]\n",
    "testing_sample = data_ml[data_ml.index.isin(idx_test)]"
   ]
  },
  {
   "cell_type": "code",
   "execution_count": 10,
   "metadata": {},
   "outputs": [],
   "source": [
    "import xgboost as xgb\n",
    "data_ml.loc[:, 'R1M_Usd_quantile'] = data_ml.groupby('date')['R1M_Usd'].transform(\n",
    "    lambda x: pd.qcut(x, 100, labels=False, duplicates=('drop'), precision=50)\n",
    ")\n",
    "separation_mask = data_ml['date'] < separation_date\n",
    "\n",
    "# 행 선택을 위한 불리언 배열\n",
    "boolean_quantile = (\n",
    "    (data_ml.loc[separation_mask, 'R1M_Usd_quantile']<=20)|\n",
    "    (data_ml.loc[separation_mask, 'R1M_Usd_quantile']>=80)\n",
    ")\n",
    "# 극단치 선택\n",
    "train_features_xgb = training_sample.loc[boolean_quantile, features_short]\n",
    "train_label_xgb = training_sample.loc[boolean_quantile, 'R1M_Usd']\n",
    "#train_features_xgb = train_features_xgb.to_numpy()\n",
    "#train_label_xgb = train_label_xgb.to_numpy()\n",
    "train_label_xgb_C = training_sample.loc[boolean_quantile, 'R1M_Usd_C']\n",
    "\n"
   ]
  },
  {
   "cell_type": "code",
   "execution_count": 11,
   "metadata": {},
   "outputs": [
    {
     "name": "stdout",
     "output_type": "stream",
     "text": [
      "MSE: 0.0372623216226881\n"
     ]
    }
   ],
   "source": [
    "from sklearn import svm\n",
    "\n",
    "y = train_label_xgb.iloc[0:1000]\n",
    "x = train_features_xgb.iloc[0:1000,]\n",
    "test_feat_short = testing_sample[features_short]\n",
    "y_c = train_label_xgb_C.iloc[0:1000]\n",
    "\n",
    "\n",
    "#train_features_xgb = train_features_xgb.to_numpy()\n",
    "#train_label_xgb = train_label_xgb.to_numpy()\n",
    "#train_label_xgb_C = train_label_xgb_C.to_numpy()\n",
    "y_test = testing_sample['R1M_Usd'].values\n",
    "\n",
    "model_svm = svm.SVR(\n",
    "    kernel='rbf',\n",
    "    C=0.1,\n",
    "    epsilon=0.1,\n",
    "    gamma=0.5\n",
    ")\n",
    "fit_svm = model_svm.fit(x,y)\n",
    "mse= np.mean((fit_svm.predict(test_feat_short) - y_test) ** 2)\n",
    "print(f'MSE: {mse}')"
   ]
  },
  {
   "cell_type": "code",
   "execution_count": 12,
   "metadata": {},
   "outputs": [
    {
     "name": "stdout",
     "output_type": "stream",
     "text": [
      "Hit Ratio: 0.5088736326344576\n"
     ]
    }
   ],
   "source": [
    "hitratio = np.mean(fit_svm.predict(test_feat_short)*y_test>0)\n",
    "print(f'Hit Ratio: {hitratio}')"
   ]
  },
  {
   "cell_type": "code",
   "execution_count": 15,
   "metadata": {},
   "outputs": [
    {
     "name": "stdout",
     "output_type": "stream",
     "text": [
      "Hit Ratio: 0.4851014129443938\n"
     ]
    }
   ],
   "source": [
    "model_svm_c = svm.SVC(\n",
    "    kernel='sigmoid',\n",
    "    C=0.2,\n",
    "    gamma=0.5,\n",
    "    coef0=0.3\n",
    ")\n",
    "\n",
    "y_c_test = testing_sample['R1M_Usd_C'].values\n",
    "\n",
    "fit_svm_c = model_svm_c.fit(x,y_c)\n",
    "\n",
    "hitratio = np.mean(fit_svm_c.predict(test_feat_short)==y_c_test)\n",
    "print(f'Hit Ratio: {hitratio}')"
   ]
  },
  {
   "cell_type": "markdown",
   "metadata": {},
   "source": [
    "8.4 코딩 예제"
   ]
  },
  {
   "cell_type": "markdown",
   "metadata": {},
   "source": [
    "1. 위에 나온 간단한 예제에서 SVM 모델을 다른 커널로 확장하고 적합도에 미치는 영향을 논의하라."
   ]
  },
  {
   "cell_type": "code",
   "execution_count": 16,
   "metadata": {},
   "outputs": [
    {
     "name": "stdout",
     "output_type": "stream",
     "text": [
      "MSE: 0.03725673672234242\n",
      "MSE: 0.0374956596428182\n",
      "MSE: 0.03879169227180665\n",
      "MSE: 0.5036757335432294\n"
     ]
    }
   ],
   "source": [
    "y = train_label_xgb.iloc[1:1000]\n",
    "x = train_features_xgb.iloc[1:1000,]\n",
    "test_feat_short = testing_sample[features_short]\n",
    "\n",
    "def svm_func(_kernel, _C, _gamma, _coef0):\n",
    "    model_svm = svm.SVR(kernel=_kernel, C=_C, gamma=_gamma, coef0=_coef0)\n",
    "    fit_svm = model_svm.fit(x,y)\n",
    "    mse = np.mean((fit_svm.predict(test_feat_short) - y_test) ** 2)\n",
    "    print(f'MSE: {mse}')\n",
    "kernels = ['linear', 'rbf', 'poly', 'sigmoid']\n",
    "\n",
    "for i in range(0, len(kernels)):\n",
    "    svm_func(kernels[i], 0.2, 0.5, 0.3)"
   ]
  },
  {
   "cell_type": "code",
   "execution_count": null,
   "metadata": {},
   "outputs": [],
   "source": [
    "#sigmoid 함수의 경우 , 모델 성능이 저하됨."
   ]
  },
  {
   "cell_type": "markdown",
   "metadata": {},
   "source": [
    "2. 12개월 선행(즉, 미래) 수익률로 레이블을 지정해 바닐라 SVM 모델을 훈련하고 테스트 샘플에 대해 평가하라. 간단한 랜덤 포레스트에 대해서도 동일한 작업을 수행하고 비교하라."
   ]
  },
  {
   "cell_type": "code",
   "execution_count": 17,
   "metadata": {},
   "outputs": [
    {
     "name": "stdout",
     "output_type": "stream",
     "text": [
      "Hit Ratio: 0.5300250683682771\n"
     ]
    }
   ],
   "source": [
    "y = train_label_xgb.iloc[1:50000]\n",
    "x = train_features_xgb.iloc[1:50000,]\n",
    "test_feat_short = testing_sample[features_short]\n",
    "\n",
    "model_svm_full = svm.SVR(\n",
    "    kernel='linear',\n",
    "    C=0.1,\n",
    "    epsilon=0.1,\n",
    "    gamma=0.5\n",
    ")\n",
    "fit_svm_full=model_svm_full.fit(x,y)\n",
    "\n",
    "hitratio = np.mean(fit_svm_full.predict(test_feat_short)*y_test>0)\n",
    "print(f'Hit Ratio: {hitratio}')"
   ]
  },
  {
   "cell_type": "markdown",
   "metadata": {},
   "source": [
    "비교용 간단한 랜덤포레스트"
   ]
  },
  {
   "cell_type": "code",
   "execution_count": 19,
   "metadata": {},
   "outputs": [],
   "source": [
    "train_matrix_xgb = xgb.DMatrix(x, label=y)\n",
    "params={'eta' : 0.3,\n",
    "        'objective' : \"reg:squarederror\",\n",
    "        'max_depth' : 4}\n",
    "fit_xgb_full = xgb.train(params, train_matrix_xgb, num_boost_round=60)\n",
    "test_features_xgb = testing_sample[features_short]\n",
    "test_matrix_xgb = xgb.DMatrix(test_features_xgb, label=y_test)"
   ]
  },
  {
   "cell_type": "code",
   "execution_count": 20,
   "metadata": {},
   "outputs": [
    {
     "name": "stdout",
     "output_type": "stream",
     "text": [
      "Hit Ratio: 0.5236012989972653\n"
     ]
    }
   ],
   "source": [
    "hitratio = np.mean(fit_xgb_full.predict(test_matrix_xgb) * y_test >0)\n",
    "print(f'Hit Ratio: {hitratio}')"
   ]
  }
 ],
 "metadata": {
  "kernelspec": {
   "display_name": "tensor",
   "language": "python",
   "name": "python3"
  },
  "language_info": {
   "codemirror_mode": {
    "name": "ipython",
    "version": 3
   },
   "file_extension": ".py",
   "mimetype": "text/x-python",
   "name": "python",
   "nbconvert_exporter": "python",
   "pygments_lexer": "ipython3",
   "version": "3.12.7"
  }
 },
 "nbformat": 4,
 "nbformat_minor": 2
}
